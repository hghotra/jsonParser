{
 "nbformat": 4,
 "nbformat_minor": 2,
 "metadata": {
  "language_info": {
   "name": "python",
   "codemirror_mode": {
    "name": "ipython",
    "version": 2
   },
   "version": "3.7.4-final"
  },
  "orig_nbformat": 2,
  "file_extension": ".py",
  "mimetype": "text/x-python",
  "name": "python",
  "npconvert_exporter": "python",
  "pygments_lexer": "ipython2",
  "version": 2,
  "kernelspec": {
   "name": "python3",
   "display_name": "Python 3"
  }
 },
 "cells": [
  {
   "cell_type": "code",
   "execution_count": 69,
   "metadata": {},
   "outputs": [
    {
     "output_type": "stream",
     "name": "stdout",
     "text": "dict\n  pair\n    string\t\"key\"\n    array\n      string\t\"item0\"\n      string\t\"item1\"\n      number\t3.14\n      null\n      true\n      false\n\n{'key': ['item0', 'item1', 3.14, None, True, False]}\n"
    }
   ],
   "source": [
    "import json\n",
    "from lark import Lark, Transformer\n",
    "import json\n",
    "\n",
    "jsonLang = Lark(r\"\"\"\n",
    "    ?value:  dict\n",
    "         |  array\n",
    "         |  string\n",
    "         |  number\n",
    "         |  \"true\"      -> true\n",
    "         |  \"false\"     -> false\n",
    "         |  \"null\"      -> null\n",
    "\n",
    "    dict:       \"{\" [pair (\",\" pair)*] \"}\"\n",
    "    pair:       string \":\" value\n",
    "\n",
    "    array:      \"[\" [value (\",\" value)*] \"]\"\n",
    "\n",
    "    number:     SIGNED_NUMBER\n",
    "    string:     ESCAPED_STRING\n",
    "\n",
    "    %import common.ESCAPED_STRING\n",
    "    %import common.SIGNED_NUMBER\n",
    "    %import common.WS\n",
    "    %ignore WS\n",
    "\"\"\", start='value', parser='lalr')\n",
    "\n",
    "\n",
    "class JsonTransformer(Transformer):\n",
    "    def dict(self, items):\n",
    "        return dict(items)\n",
    "    def pair(self, key_value):\n",
    "        k, v = key_value\n",
    "        return k, v\n",
    "    def array(self, items):\n",
    "        return list(items)\n",
    "\n",
    "    def string(self, s):\n",
    "        (s,) = s\n",
    "        return s[1:-1]\n",
    "    def number(self, n):\n",
    "        (n,) = n\n",
    "        return float(n)\n",
    "    def null(self, n):\n",
    "        return None\n",
    "    def true(self, n):\n",
    "        return True\n",
    "    def false(self, n):\n",
    "        return False\n",
    "\n",
    "\n",
    "testStr = '{\"key\": [\"item0\", \"item1\", 3.14, null, true, false]}'\n",
    "\n",
    "tree = jsonLang.parse(testStr)\n",
    "print(tree.pretty())\n",
    "\n",
    "transformed_tree = JsonTransformer().transform(tree)\n",
    "print(transformed_tree)\n",
    "\n",
    "assert json.loads(testStr) == transformed_tree\n"
   ]
  },
  {
   "cell_type": "code",
   "execution_count": null,
   "metadata": {},
   "outputs": [],
   "source": []
  }
 ]
}